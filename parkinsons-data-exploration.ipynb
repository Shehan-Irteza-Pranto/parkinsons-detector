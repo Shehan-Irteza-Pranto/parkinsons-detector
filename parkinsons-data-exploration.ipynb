{
 "cells": [
  {
   "cell_type": "markdown",
   "metadata": {},
   "source": [
    "# Parkinson's Data Exploration\n",
    "\n",
    "This document will hold code that will allow us to gain insights on the parkinsons datasets that we have to work including disease classification, multiple sound recording, and telemonitoring. \n",
    "\n",
    "## Some Housekeeping\n",
    "We'll start by importing any necessary packages and pulling in the data using pandas"
   ]
  },
  {
   "cell_type": "code",
   "execution_count": 12,
   "metadata": {},
   "outputs": [
    {
     "name": "stdout",
     "output_type": "stream",
     "text": [
      "3.7.3 (default, Oct 11 2019, 19:39:43) \n",
      "[Clang 11.0.0 (clang-1100.0.33.12)]\n"
     ]
    }
   ],
   "source": [
    "# Data Manipulation\n",
    "import pandas as pd\n",
    "import sys\n",
    "print(sys.version)\n",
    "# Visualizations\n",
    "#import vis_utils\n",
    "import matplotlib.pyplot as plt\n",
    "\n",
    "\n",
    "dc = pd.read_csv('./data/disease-classification/pd_speech_features_no_top_row.csv')\n",
    "msr_train = pd.read_csv('./data/multiple-sound-recording/train_data.csv')\n",
    "msr_test = pd.read_csv('./data/multiple-sound-recording/test_data.csv')\n",
    "te = pd.read_csv('./data/telemonitoring/parkinsons_updrs.csv')"
   ]
  },
  {
   "cell_type": "markdown",
   "metadata": {},
   "source": [
    "## Background Dataset Information\n",
    "\n",
    "### [Disease Classification (DC) Dataset](https://archive.ics.uci.edu/ml/datasets/Parkinson%27s+Disease+Classification#)\n",
    "The data used in this study were gathered from 188 patients with Parkinsons and 64 healthy individuals. Researchers recorded the participants sustaining the phonation of the vowel /a/ for three repetitions.\n",
    "\n",
    "Speech signal processing algorithms including Time Frequency Features, Mel Frequency Cepstral Coefficients (MFCCs), Wavelet Transform based Features, Vocal Fold Features and TWQT features were also applied to the speech recordings to extract clinically useful information for PD assessment.\n",
    "\n",
    "### [Multiple Sound Recording (MSR) Dataset](https://archive.ics.uci.edu/ml/datasets/Parkinson+Speech+Dataset+with++Multiple+Types+of+Sound+Recordings)\n",
    "The training data were gathered from 20 patients with Parkinsons and 20 health individuals. Multiple types of sound recordings were taken from each participant (listed below) and expert physicians assigned each participant a Unified Parkinsonâ€™s Disease Rating Scale (UPDRS) score. \n",
    "\n",
    "Utterances\n",
    "- 1: sustained vowel (aaaâ€¦â€¦)\n",
    "- 2: sustained vowel (oooâ€¦...)\n",
    "- 3: sustained vowel (uuuâ€¦...)\n",
    "- 4-13: numbers from 1 to 10\n",
    "- 14-17: short sentences\n",
    "- 18-26: words\n",
    "\n",
    "Features\n",
    "Training Data File:\n",
    "- column 1: Subject id\n",
    "\n",
    "- columns 2-27: features\n",
    "- features 1-5: Jitter (local),Jitter (local, absolute),Jitter (rap),Jitter (ppq5),Jitter (ddp),\n",
    "- features 6-11: Shimmer (local),Shimmer (local, dB),Shimmer (apq3),Shimmer (apq5), Shimmer (apq11),Shimmer (dda),\n",
    "- features 12-14: AC,NTH,HTN,\n",
    "- features 15-19: Median pitch,Mean pitch,Standard deviation,Minimum pitch,Maximum pitch,\n",
    "- features 20-23: Number of pulses,Number of periods,Mean period,Standard deviation of period, features 24-26: Fraction of locally unvoiced frames,Number of voice breaks,Degree of voice breaks\n",
    "\n",
    "- column 28: UPDRS\n",
    "- column 29: class information\n",
    "\n",
    "The testing data were gathered from 28 different patients with Parkinsons. The patients are asked to say only the sustained vowels 'a' and 'o' three times each, producing 168 recordings. The same 26 features are extracted from the voice samples.\n",
    "\n",
    "Utterances\n",
    "- 1-3: sustained vowel (aaaâ€¦â€¦)\n",
    "- 4-6: sustained vowel (oooâ€¦â€¦)\n",
    "\n",
    "Related source:\n",
    "-   [Paper](https://www.researchgate.net/publication/260662600_Collection_and_Analysis_of_a_Parkinson_Speech_Dataset_With_Multiple_Types_of_Sound_Recordings)\n",
    "\n",
    "### [Telemonitoring (TE) Dataset ](http://archive.ics.uci.edu/ml/datasets/Parkinsons+Telemonitoring)\n",
    "The data was gathered from 42 people with early-stage Parkinson's disease. There are 16 voice measures, and two regression measurements: motor UPDRS and total UPDRS. Each row of the dataset contain corresponds to one voice recording. There are around 200 recordings per patient, the subject number of the patient is identified in the first column.\n",
    "\n",
    "Features\n",
    "- subject# - Integer that uniquely identifies each subject\n",
    "- age - Subject age\n",
    "- sex - Subject gender '0' - male, '1' - female\n",
    "- test_time - Time since recruitment into the trial. The integer part is the number of days since recruitment.\n",
    "- motor_UPDRS - Clinician's motor UPDRS score, linearly interpolated\n",
    "- total_UPDRS - Clinician's total UPDRS score, linearly interpolated\n",
    "- Jitter(%),Jitter(Abs),Jitter:RAP,Jitter:PPQ5,Jitter:DDP - Several measures of variation in fundamental frequency\n",
    "- Shimmer,Shimmer(dB),Shimmer:APQ3,Shimmer:APQ5,Shimmer:APQ11,Shimmer:DDA - Several measures of variation in amplitude\n",
    "- NHR,HNR - Two measures of ratio of noise to tonal components in the voice\n",
    "- RPDE - A nonlinear dynamical complexity measure\n",
    "- DFA - Signal fractal scaling exponent\n",
    "- PPE - A nonlinear measure of fundamental frequency variation"
   ]
  },
  {
   "cell_type": "markdown",
   "metadata": {},
   "source": [
    "## Dataset Similarities and Differences\n",
    "\n",
    "In this section we'll take a look at some of the similarities and differences across these 3 datasets. We can begin by looking at the shape of these datasets."
   ]
  },
  {
   "cell_type": "code",
   "execution_count": 13,
   "metadata": {},
   "outputs": [
    {
     "name": "stdout",
     "output_type": "stream",
     "text": [
      "Disease Classification Dataset shape: (756, 755)\n",
      "Multiple Sound Recoring Training Dataset shape: (1040, 29)\n",
      "Multiple Sound Recoring Testing Dataset shape: (168, 28)\n",
      "Telemonitoring Datasetshape: (5875, 22)\n"
     ]
    }
   ],
   "source": [
    "print(\"Disease Classification Dataset shape: {}\".format(dc.shape))\n",
    "print(\"Multiple Sound Recoring Training Dataset shape: {}\".format(msr_train.shape))\n",
    "print(\"Multiple Sound Recoring Testing Dataset shape: {}\".format(msr_test.shape))\n",
    "print(\"Telemonitoring Datasetshape: {}\".format(te.shape))"
   ]
  },
  {
   "cell_type": "markdown",
   "metadata": {},
   "source": [
    "Immediately, we notice that the dimensionality of the DC dataset is very high in comparison to the other two datasets, with about 30 times the number of features. This is due to the speech signal processing algorithms that are run on the voice recordings on this dataset, including Time Frequency Features, Mel Frequency Cepstral Coefficients (MFCCs), Wavelet Transform based Features, Vocal Fold Features and TWQT features. These processes create many features.\n",
    "\n",
    "We also note that the DC and MSR datasets have a similar number of instances, while the TE dataset has over 5 times as many instances. None of these datasets are particularly large."
   ]
  },
  {
   "cell_type": "markdown",
   "metadata": {},
   "source": [
    "## Cleaning the Data\n",
    "Because these datasets come from multiple sources, we will do some cleaning using pandas.\n",
    "\n",
    "### DC Dataset"
   ]
  },
  {
   "cell_type": "code",
   "execution_count": 3,
   "metadata": {},
   "outputs": [],
   "source": [
    "# TODO: clean the DC Dataset, give it labels"
   ]
  },
  {
   "cell_type": "markdown",
   "metadata": {},
   "source": [
    "### MSR Train Dataset"
   ]
  },
  {
   "cell_type": "code",
   "execution_count": 4,
   "metadata": {},
   "outputs": [],
   "source": [
    "# TODO: clean the MSR Train Dataset, give it labels"
   ]
  },
  {
   "cell_type": "markdown",
   "metadata": {},
   "source": [
    "### MSR Test Dataset"
   ]
  },
  {
   "cell_type": "code",
   "execution_count": 5,
   "metadata": {},
   "outputs": [],
   "source": [
    "# TODO: clean the MSR Test Dataset, give it labels"
   ]
  },
  {
   "cell_type": "markdown",
   "metadata": {},
   "source": [
    "### TE Dataset\n"
   ]
  },
  {
   "cell_type": "code",
   "execution_count": 6,
   "metadata": {},
   "outputs": [],
   "source": [
    "# TODO: clean the TE Dataset"
   ]
  },
  {
   "cell_type": "code",
   "execution_count": 64,
   "metadata": {},
   "outputs": [
    {
     "name": "stdout",
     "output_type": "stream",
     "text": [
      "data/mozillaClips/clips_0_data.csv\n"
     ]
    }
   ],
   "source": [
    "import pandas as pd\n",
    "def loadData(i):\n",
    "    filename = \"data/mozillaClips/clips_\" + str(i) + \"_data.csv\"\n",
    "    print(filename)\n",
    "    df = pd.read_csv(filename)\n",
    "    consideredCols =['Jitter (local)',\n",
    "       'Jitter (local, absolute)', 'Jitter (rap)', 'Jitter (ppq5)',\n",
    "       'Jitter (ddp)', 'Shimmer (local)', 'Shimmer (local, dB)',\n",
    "       'Shimmer (apq3)', 'Shimmer (apq5)', 'Shimmer (apq11)', 'Shimmer (dda)',\n",
    "       'Mean noise-to-harmonics ratio', 'Mean harmonics-to-noise ratio']\n",
    "    consideredCols = ['Jitter', 'Jitter(Abs)', 'Jitter:RAP', 'Jitter:PPQ5', 'Jitter:DDP',\n",
    "       'Shimmer', 'Shimmer(dB)', 'Shimmer:APQ3', 'Shimmer:APQ5',\n",
    "       'Shimmer:APQ11', 'Shimmer:DDA', 'NHR', 'HNR']\n",
    "    #print(df[consideredCols])\n",
    "    keyMap = {'Jitter (local)': \"Jitter\",'Jitter (local, absolute)': \"Jitter(Abs)\", \n",
    "              'Jitter (rap)': \"Jitter:RAP\", 'Jitter (ppq5)': \"Jitter:PPQ5\",\n",
    "               'Jitter (ddp)': \"Jitter:DDP\", 'Shimmer (local)': \"Shimmer\", \n",
    "               'Shimmer (apq3)': \"Shimmer:APQ3\", 'Shimmer (apq5)': \"Shimmer:APQ5\", \n",
    "              'Shimmer (apq11)': \"Shimmer:APQ11\", 'Shimmer (dda)': \"Shimmer:DDA\",\n",
    "               'Mean autocorrelation': \"AC\", 'Mean noise-to-harmonics ratio': \"NHR\",\n",
    "              'Shimmer (local, dB)': \"Shimmer(dB)\",'Mean harmonics-to-noise ratio': \"HNR\"}\n",
    "    \n",
    "    \"\"\"{'Jitter (local)': \"jitter_local\",'Jitter (local, absolute)': \"jitter_local_absolute\", \n",
    "              'Jitter (rap)': \"jitter_rap\", 'Jitter (ppq5)': \"jitter_ppq5\",\n",
    "               'Jitter (ddp)': \"jitter_ddp\", 'Shimmer (local)': \"shimmer_local\", \n",
    "               'Shimmer (apq3)': \"shimmer_apq3\", 'Shimmer (apq5)': \"shimmer_apq5\", \n",
    "              'Shimmer (apq11)': \"shimmer_apq11\", 'Shimmer (dda)': \"shimmer_dda\",\n",
    "               'Mean autocorrelation': \"AC\", 'Mean noise-to-harmonics ratio': \"NTH\",\n",
    "              'Shimmer (local, dB)': \"shimmer_local_db\",'Mean harmonics-to-noise ratio': \"HTN\"}\n",
    "    \"\"\"\n",
    "    df = df[~df.eq(\"--undefined--\").any(1)] \n",
    "    df = df.rename(columns=keyMap)\n",
    "    d\n",
    "    return df\n",
    "    \n",
    "raw_mozilla_dataset = loadData(0)"
   ]
  },
  {
   "cell_type": "markdown",
   "metadata": {},
   "source": [
    "## Data Visualization and Covariance Matrices\n",
    "\n",
    "First we will begin my creating visualizations for the correlation matrix of each dataset. We will be using a special heatmap that encodes correlation using not only color, but size. The code for this visualization is taken from this [tutorial](https://towardsdatascience.com/better-heatmaps-and-correlation-matrix-plots-in-python-41445d0f2bec).\n",
    "\n",
    "### Telemonitoring Covariance Matrix\n",
    "Let's begin by making a covariance matrix for the Telemonitoring dataset, the most straightfoward and classical dataset we have."
   ]
  },
  {
   "cell_type": "code",
   "execution_count": 20,
   "metadata": {},
   "outputs": [],
   "source": [
    "#def make_corr_vis(filename, name, data, columns):\n",
    "    # Calculate correlation\n",
    " #   corr = data[columns].corr()\n",
    "    # Matplotlib magic\n",
    "  #  corr = pd.melt(corr.reset_index(), id_vars='index')  # Unpivot the dataframe, so we can get pair of arrays for x and y\n",
    "   # corr.columns = ['x', 'y', 'value']\n",
    "    # Call our helper function in vis_utils\n",
    "    #vis_utils.heatmap(x=corr['x'], y=corr['y'], size=corr['value'].abs(),color=corr['value'],\n",
    "     #                 title=name, save_path='./visualizations/{}-correlation-matrix.jpg'.format(filename))\n",
    "\n",
    "# Store each dataset with a filename friendly \"filename\" and a \"name\"\n",
    "datasets = [(\"disease-classification\", \"Disease Classification\", dc),\n",
    "            (\"multiple-sound-recoring-train\", \"Multiple Sound Recording Train\", msr_train),\n",
    "            (\"multiple-sound-recoring-test\", \"Multiple Sound Recording Test\", msr_test),\n",
    "            (\"telemonitoring\", \"Telemonitoring\", te)]\n",
    "\n",
    "# Make Telemonitoring Covariance Matrix\n",
    "te_filename, te_name, te_data = datasets[3]\n",
    "# Choose the columns to display\n",
    "te_columns = ['age', 'sex', 'test_time', 'Jitter(%)', \n",
    "           'Jitter(Abs)', 'Jitter:RAP', 'Jitter:PPQ5', 'Jitter:DDP',\n",
    "           'Shimmer', 'Shimmer(dB)', 'Shimmer:APQ3', 'Shimmer:APQ5',\n",
    "           'Shimmer:APQ11', 'Shimmer:DDA', 'NHR', 'HNR', 'RPDE',\n",
    "           'DFA', 'PPE']\n",
    "#make_corr_vis(te_filename, te_name, te_data, te_columns)"
   ]
  },
  {
   "cell_type": "markdown",
   "metadata": {},
   "source": [
    "The most immediate thing to jump out from this dataset, is that many dimensions are highly correlated. This, of course, is due to having multiple features that are inextricably related, like the jitter and shimmer features. This could make our dataset a good candidate for principle component analysis.\n",
    "\n",
    "### Multiple Sound Recording Datasets\n",
    "Now let's get into the Multiple Sound Recording Datasets. These datasets are interesting in that there are two seperate train and test datasets. The data are also drawn from very different distributions of people, with the train dataset coming from a mix of people with and without Parkinson's and the test dataset being entirely composed of data collected from people with Parkinson's.\n",
    "\n",
    "We can graph the covariance matrix of both datasets and see if they differ."
   ]
  },
  {
   "cell_type": "code",
   "execution_count": 21,
   "metadata": {},
   "outputs": [],
   "source": [
    "# Make Multiple Sound Recording Covariance Matrix\n",
    "msr_columns = ['jitter_local', 'jitter_local_absolute',\n",
    "               'jitter_rap', 'jitter_ppq5', 'jitter_ddp', 'shimmer_local',\n",
    "               'shimmer_local_db', 'shimmer_apq3', 'shimmer_apq5', \n",
    "               'shimmer_apq11', 'shimmer_data', 'AC', 'NTH', 'HTN',\n",
    "               'median_pitch', 'mean_pitch', 'standard_dev_pitch', \n",
    "               'min_pitch', 'max_pitch', 'num_pulses', 'num_periods',\n",
    "               'mean_period','standard_dev_period', 'frac_locally_unvoiced_frames',\n",
    "               'num_voice_breaks','degree_of_voice_breaks']\n",
    "# Plot covariance Matrix of msr_train\n",
    "msr_train_filename, msr_train_name, msr_train_data = datasets[1]\n",
    "#make_corr_vis(msr_train_filename, msr_train_name, msr_train_data, \n",
    "  #            msr_columns)\n",
    "# Plot covariance Matrix of msr_test\n",
    "msr_test_filename, msr_test_name, msr_test_data = datasets[2]\n",
    "#make_corr_vis(msr_test_filename, msr_test_name, msr_test_data, \n",
    " #             msr_columns)"
   ]
  },
  {
   "cell_type": "markdown",
   "metadata": {},
   "source": [
    "## Dimensionality Reduction\n",
    "Looking at how highly correlated some features are, let's try doing some dimensionality reduction using PCA and LDA.\n",
    "\n",
    "Let's begin by using PCA on the datasets and seeing how many components we need to recover 99% of the variance.\n",
    "\n",
    "### PCA"
   ]
  },
  {
   "cell_type": "code",
   "execution_count": 22,
   "metadata": {},
   "outputs": [
    {
     "name": "stdout",
     "output_type": "stream",
     "text": [
      "PCA Anlaysis of DC\n",
      "Old shape of data: (756, 755)\n"
     ]
    },
    {
     "name": "stderr",
     "output_type": "stream",
     "text": [
      "/Library/Python/3.7/site-packages/sklearn/preprocessing/data.py:172: UserWarning: Numerical issues were encountered when centering the data and might not be solved. Dataset may contain too large values. You may need to prescale your features.\n",
      "  warnings.warn(\"Numerical issues were encountered \"\n"
     ]
    },
    {
     "name": "stdout",
     "output_type": "stream",
     "text": [
      "Components making 99% of variance: 270\n",
      "New shape of data: (756, 270)\n",
      "\n",
      "______________________________________\n",
      "\n",
      "PCA Anlaysis of TE\n",
      "Old shape of data: (5875, 22)\n",
      "Components making 99% of variance: 11\n",
      "New shape of data: (5875, 11)\n",
      "\n",
      "______________________________________\n",
      "\n",
      "PCA Anlaysis of MSR Train\n",
      "Old shape of data: (1040, 29)\n",
      "Components making 99% of variance: 17\n",
      "New shape of data: (1040, 17)\n",
      "\n",
      "______________________________________\n",
      "\n",
      "PCA Anlaysis of MSR Test\n",
      "Old shape of data: (168, 28)\n",
      "Components making 99% of variance: 12\n",
      "New shape of data: (168, 12)\n"
     ]
    }
   ],
   "source": [
    "from sklearn import preprocessing\n",
    "from sklearn.decomposition import PCA\n",
    "\n",
    "def intrinsic_dimension(explained_variance_ratio_, recovered_variance=.99):\n",
    "    dim = 0\n",
    "    partial_var = 0\n",
    "    for val in explained_variance_ratio_:\n",
    "        # Update dim and va\n",
    "        dim += 1\n",
    "        partial_var += val\n",
    "        if partial_var >= recovered_variance:\n",
    "            break\n",
    "    return dim\n",
    "\n",
    "print(\"PCA Anlaysis of DC\")\n",
    "print(f\"Old shape of data: {dc.shape}\")\n",
    "# Let's first scale/center our data, using only the msr_columns\n",
    "scaled_dc_data = pd.DataFrame(preprocessing.scale(dc.iloc[:, 1:-1]), columns = dc.columns[1:-1])\n",
    "# Fit pca to it\n",
    "pca = PCA()\n",
    "pca.fit(scaled_dc_data)\n",
    "# Find the number of components needed to recover 99% of variance\n",
    "n_components_dc = intrinsic_dimension(pca.explained_variance_ratio_)\n",
    "print(f\"Components making 99% of variance: {n_components_dc}\")\n",
    "# Perform the pca transform using n_components needed to recover 99% of variance\n",
    "pca = PCA(n_components=n_components_dc)\n",
    "transformed_dc_data = pca.fit_transform(scaled_dc_data)\n",
    "print(f\"New shape of data: {transformed_dc_data.shape}\")\n",
    "\n",
    "print('\\n______________________________________\\n')\n",
    "\n",
    "print(\"PCA Anlaysis of TE\")\n",
    "print(f\"Old shape of data: {te_data.shape}\")\n",
    "# Let's first scale/center our data, using only the msr_columns\n",
    "scaled_te_data = pd.DataFrame(preprocessing.scale(te_data[te_columns]), columns = te_columns)\n",
    "# Fit pca to it\n",
    "pca = PCA()\n",
    "pca.fit(scaled_te_data)\n",
    "# Find the number of components needed to recover 99% of variance\n",
    "n_components_te = intrinsic_dimension(pca.explained_variance_ratio_)\n",
    "print(f\"Components making 99% of variance: {n_components_te}\")\n",
    "# Perform the pca transform using n_components needed to recover 99% of variance\n",
    "pca = PCA(n_components=n_components_te)\n",
    "transformed_te_data = pca.fit_transform(scaled_te_data)\n",
    "print(f\"New shape of data: {transformed_te_data.shape}\")\n",
    "\n",
    "print('\\n______________________________________\\n')\n",
    "\n",
    "print(\"PCA Anlaysis of MSR Train\")\n",
    "print(f\"Old shape of data: {msr_train_data.shape}\")\n",
    "# Let's first scale/center our data, using only the msr_columns\n",
    "scaled_msr_train_data = pd.DataFrame(preprocessing.scale(msr_train_data[msr_columns]), columns = msr_columns)\n",
    "# Fit pca to it\n",
    "pca = PCA()\n",
    "pca.fit(scaled_msr_train_data)\n",
    "# Find the number of components needed to recover 99% of variance\n",
    "n_components_msr_train = intrinsic_dimension(pca.explained_variance_ratio_)\n",
    "print(f\"Components making 99% of variance: {n_components_msr_train}\")\n",
    "# Perform the pca transform using n_components needed to recover 99% of variance\n",
    "pca = PCA(n_components=n_components_msr_train)\n",
    "transformed_msr_train_data = pca.fit_transform(scaled_msr_train_data)\n",
    "print(f\"New shape of data: {transformed_msr_train_data.shape}\")\n",
    "\n",
    "print('\\n______________________________________\\n')\n",
    "\n",
    "print(\"PCA Anlaysis of MSR Test\")\n",
    "print(f\"Old shape of data: {msr_test_data.shape}\")\n",
    "# Let's first scale/center our data, using only the msr_columns\n",
    "scaled_msr_test_data = pd.DataFrame(preprocessing.scale(msr_test_data[msr_columns]), columns = msr_columns)\n",
    "# Fit pca to it\n",
    "pca = PCA()\n",
    "pca.fit(scaled_msr_test_data)\n",
    "# Find the number of components needed to recover 99% of variance\n",
    "n_components_msr_test = intrinsic_dimension(pca.explained_variance_ratio_)\n",
    "print(f\"Components making 99% of variance: {n_components_msr_test}\")\n",
    "# Perform the pca transform using n_components needed to recover 99% of variance\n",
    "pca = PCA(n_components=n_components_msr_test)\n",
    "transformed_msr_test_data = pca.fit_transform(scaled_msr_test_data)\n",
    "print(f\"New shape of data: {transformed_msr_test_data.shape}\")\n",
    "\n",
    "# Get MSR dimension reduced data ready  \n",
    "pca = PCA(n_components=n_components_msr_train)\n",
    "transformed_msr_test_data_forTesting = pca.fit_transform(scaled_msr_test_data)"
   ]
  },
  {
   "cell_type": "code",
   "execution_count": 26,
   "metadata": {},
   "outputs": [
    {
     "name": "stdout",
     "output_type": "stream",
     "text": [
      "Explained variance ratio of the first two components: [0.64558392 0.26260677]\n"
     ]
    }
   ],
   "source": [
    "from sklearn.decomposition import PCA\n",
    "#import seaborn as sns\n",
    "pca = PCA(n_components=2)\n",
    "\n",
    "msr_train_pca = pca.fit_transform(msr_train_data[msr_columns])\n",
    "print('Explained variance ratio of the first two components: %s'\n",
    "      % str(pca.explained_variance_ratio_))\n",
    "#cmap = sns.cubehelix_palette(rot=-.4,as_cmap=True)\n",
    "#f, ax = plt.subplots()\n",
    "#points = ax.scatter(msr_train_pca[:,0], msr_train_pca[:,1], c=msr_train_data.UPDRS, s=25, cmap=cmap);\n",
    "#f.colorbar(points);"
   ]
  },
  {
   "cell_type": "code",
   "execution_count": 28,
   "metadata": {},
   "outputs": [
    {
     "name": "stdout",
     "output_type": "stream",
     "text": [
      "TE: Explained variance ratio of the first two components: [0.96732889 0.02643348]\n"
     ]
    }
   ],
   "source": [
    "TE_pca = pca.fit_transform(te_data[te_columns])\n",
    "print('TE: Explained variance ratio of the first two components: %s'\n",
    "      % str(pca.explained_variance_ratio_))\n",
    "#cmap = sns.cubehelix_palette(start=2.8, rot=.1, as_cmap=True)\n",
    "#f, ax = plt.subplots()\n",
    "#points = ax.scatter(TE_pca[:,0], TE_pca[:,1], c=te_data.total_UPDRS, s=10, cmap=cmap);\n",
    "#f.colorbar(points);"
   ]
  },
  {
   "cell_type": "markdown",
   "metadata": {},
   "source": [
    "As we can see, there's a pretty dramatic reduction in dimensions. For each of the datasets only about half of the initial dimensions are needed to recover 99% of the variance.\n",
    "\n",
    "But, since we have labels for this dataset, it's important that we try LDA as well, which can utilize these labels to make intelligent dimensionality reduction, which we can use for other methods."
   ]
  },
  {
   "cell_type": "code",
   "execution_count": 29,
   "metadata": {},
   "outputs": [
    {
     "name": "stdout",
     "output_type": "stream",
     "text": [
      "Explained variance ratio of the first two components: [0.43766599 0.22961422]\n"
     ]
    },
    {
     "name": "stderr",
     "output_type": "stream",
     "text": [
      "/Library/Python/3.7/site-packages/sklearn/discriminant_analysis.py:388: UserWarning: Variables are collinear.\n",
      "  warnings.warn(\"Variables are collinear.\")\n"
     ]
    }
   ],
   "source": [
    "from sklearn.discriminant_analysis import LinearDiscriminantAnalysis as LDA\n",
    "\n",
    "lda = LDA(n_components=2)\n",
    "msr_train_lda = lda.fit_transform(msr_train_data[msr_columns], msr_train_data.UPDRS)\n",
    "print('Explained variance ratio of the first two components: %s'\n",
    "      % str(lda.explained_variance_ratio_))\n",
    "#cmap = sns.cubehelix_palette(rot=-.4,as_cmap=True)\n",
    "#f, ax = plt.subplots()\n",
    "#points = ax.scatter(msr_train_lda[:,0], msr_train_lda[:,1], c=msr_train_data.UPDRS, s=25, cmap=cmap)\n",
    "#f.colorbar(points);"
   ]
  },
  {
   "cell_type": "code",
   "execution_count": 30,
   "metadata": {},
   "outputs": [
    {
     "name": "stdout",
     "output_type": "stream",
     "text": [
      "TE LDA: Explained variance ratio of the first two components: [0.35945963 0.16734153]\n"
     ]
    }
   ],
   "source": [
    "lda = LDA(n_components=2)\n",
    "TE_lda = lda.fit_transform(te_data[te_columns],round(te_data.total_UPDRS,0))\n",
    "print('TE LDA: Explained variance ratio of the first two components: %s'\n",
    "      % str(lda.explained_variance_ratio_))\n",
    "#cmap = sns.cubehelix_palette(start=2.8, rot=.1, as_cmap=True)\n",
    "#f, ax = plt.subplots()\n",
    "#points = ax.scatter(TE_lda[:,0], TE_lda[:,1], c=te_data.total_UPDRS, s=10, cmap=cmap)\n",
    "#f.colorbar(points);"
   ]
  },
  {
   "cell_type": "markdown",
   "metadata": {},
   "source": [
    "### LDA"
   ]
  },
  {
   "cell_type": "code",
   "execution_count": 31,
   "metadata": {},
   "outputs": [
    {
     "name": "stdout",
     "output_type": "stream",
     "text": [
      "Components making 99% of variance: 12\n",
      "New shape of data: (1040, 12)\n",
      "\n",
      "______________________________________\n",
      "\n"
     ]
    },
    {
     "name": "stderr",
     "output_type": "stream",
     "text": [
      "/Library/Python/3.7/site-packages/sklearn/discriminant_analysis.py:388: UserWarning: Variables are collinear.\n",
      "  warnings.warn(\"Variables are collinear.\")\n",
      "/Library/Python/3.7/site-packages/sklearn/discriminant_analysis.py:388: UserWarning: Variables are collinear.\n",
      "  warnings.warn(\"Variables are collinear.\")\n"
     ]
    }
   ],
   "source": [
    "from sklearn.discriminant_analysis import LinearDiscriminantAnalysis as LDA\n",
    "\n",
    "# Fit lda to it\n",
    "lda = LDA()\n",
    "scaled_msr_train_data = pd.DataFrame(preprocessing.scale(msr_train_data[msr_columns]), columns = msr_columns)\n",
    "lda.fit_transform(scaled_msr_train_data, msr_train_data.UPDRS)\n",
    "# Find the number of components needed to recover 99% of variance\n",
    "n_components = intrinsic_dimension(lda.explained_variance_ratio_)\n",
    "print(f\"Components making 99% of variance: {n_components}\")\n",
    "# Perform the pca transform using n_components needed to recover 99% of variance\n",
    "lda = LDA(n_components=n_components)\n",
    "msr_train_lda = lda.fit_transform(scaled_msr_train_data, msr_train_data.UPDRS)\n",
    "print(f\"New shape of data: {msr_train_lda.shape}\")\n",
    "\n",
    "print('\\n______________________________________\\n')"
   ]
  },
  {
   "cell_type": "markdown",
   "metadata": {},
   "source": [
    "## Label Visualization\n"
   ]
  },
  {
   "cell_type": "code",
   "execution_count": 32,
   "metadata": {},
   "outputs": [],
   "source": [
    "#fig = plt.figure(figsize=(13, 3))\n",
    "#ax1 = fig.add_subplot(1, 3, 1)\n",
    "#ax1.hist(te['motor_UPDRS'])\n",
    "#ax1.set_title('Tele dataset: motor UPDRS distribution')\n",
    "#ax2 = fig.add_subplot(1, 3, 2)\n",
    "#ax2.hist(te['total_UPDRS'])\n",
    "#ax2.set_title('Tele dataset: total UPDRS distribution')\n",
    "#ax3 = fig.add_subplot(1, 3, 3)\n",
    "#ax3.hist(msr_train['UPDRS'][:int(len(msr_train['UPDRS'])/2)])\n",
    "#ax3.set_title('MSR training set: UPDRS distribution')"
   ]
  },
  {
   "cell_type": "markdown",
   "metadata": {},
   "source": [
    "## SVM classifier\n"
   ]
  },
  {
   "cell_type": "code",
   "execution_count": 33,
   "metadata": {},
   "outputs": [
    {
     "name": "stdout",
     "output_type": "stream",
     "text": [
      "Linear Accuracy: %f 0.5178571428571429\n",
      "RBF Accuracy: %f 0.5416666666666666\n",
      "Poly Accuracy: %f 0.7976190476190477\n"
     ]
    },
    {
     "name": "stderr",
     "output_type": "stream",
     "text": [
      "/Library/Python/3.7/site-packages/sklearn/svm/base.py:193: FutureWarning: The default value of gamma will change from 'auto' to 'scale' in version 0.22 to account better for unscaled features. Set gamma explicitly to 'auto' or 'scale' to avoid this warning.\n",
      "  \"avoid this warning.\", FutureWarning)\n",
      "/Library/Python/3.7/site-packages/sklearn/svm/base.py:193: FutureWarning: The default value of gamma will change from 'auto' to 'scale' in version 0.22 to account better for unscaled features. Set gamma explicitly to 'auto' or 'scale' to avoid this warning.\n",
      "  \"avoid this warning.\", FutureWarning)\n"
     ]
    }
   ],
   "source": [
    "# Train a SVM classifier based on the PCA output\n",
    "from sklearn import svm\n",
    "from sklearn.metrics import accuracy_score\n",
    "import sklearn.metrics as metrics\n",
    "import numpy as np\n",
    "\n",
    "\n",
    "clf_linear = svm.SVC(kernel='linear')\n",
    "clf_linear.fit(transformed_msr_train_data, msr_train['class_info']) \n",
    "y_pred = clf_linear.predict(transformed_msr_test_data_forTesting)\n",
    "print('Linear Accuracy: %f', accuracy_score(np.ones(y_pred.shape), y_pred))\n",
    "\n",
    "clf_rbf = svm.SVC(kernel='rbf')\n",
    "clf_rbf.fit(transformed_msr_train_data, msr_train['class_info']) \n",
    "y_pred = clf_rbf.predict(transformed_msr_test_data_forTesting)\n",
    "print('RBF Accuracy: %f', accuracy_score(np.ones(y_pred.shape), y_pred))\n",
    "\n",
    "clf_poly = svm.SVC(kernel='poly')\n",
    "clf_poly.fit(transformed_msr_train_data, msr_train['class_info']) \n",
    "y_pred = clf_poly.predict(transformed_msr_test_data_forTesting)\n",
    "print('Poly Accuracy: %f', accuracy_score(np.ones(y_pred.shape), y_pred))\n"
   ]
  },
  {
   "cell_type": "markdown",
   "metadata": {},
   "source": [
    "## Random Forest classifier\n"
   ]
  },
  {
   "cell_type": "code",
   "execution_count": 34,
   "metadata": {},
   "outputs": [
    {
     "name": "stdout",
     "output_type": "stream",
     "text": [
      "Random Forest Accuracy: %f 0.5714285714285714\n"
     ]
    }
   ],
   "source": [
    "# Train a Random Forest classifier based on the PCA output\n",
    "from sklearn.ensemble import RandomForestClassifier\n",
    "\n",
    "clf = RandomForestClassifier(n_estimators=100, max_depth=2, random_state=0)\n",
    "clf.fit(transformed_msr_train_data, msr_train['class_info'])   \n",
    "y_pred = clf.predict(transformed_msr_test_data_forTesting)\n",
    "print('Random Forest Accuracy: %f', accuracy_score(np.ones(y_pred.shape), y_pred))"
   ]
  },
  {
   "cell_type": "markdown",
   "metadata": {},
   "source": [
    "## Decision Tree"
   ]
  },
  {
   "cell_type": "code",
   "execution_count": 35,
   "metadata": {},
   "outputs": [
    {
     "name": "stdout",
     "output_type": "stream",
     "text": [
      "Decision Tree Accuracy: %f 0.6130952380952381\n"
     ]
    }
   ],
   "source": [
    "# Train a Decision Tree classifier based on the PCA output\n",
    "from sklearn.tree import DecisionTreeClassifier\n",
    "clf = DecisionTreeClassifier(random_state=3)\n",
    "clf.fit(transformed_msr_train_data, msr_train['class_info'])\n",
    "y_pred = clf.predict(transformed_msr_test_data_forTesting)\n",
    "print('Decision Tree Accuracy: %f', accuracy_score(np.ones(y_pred.shape), y_pred))"
   ]
  },
  {
   "cell_type": "markdown",
   "metadata": {},
   "source": [
    "## Naive Bayes"
   ]
  },
  {
   "cell_type": "code",
   "execution_count": 36,
   "metadata": {},
   "outputs": [
    {
     "name": "stdout",
     "output_type": "stream",
     "text": [
      "Naive Bayes Accuracy: %f 0.8452380952380952\n"
     ]
    }
   ],
   "source": [
    "# Train a Gaussian Naive Bayes classifier based on the PCA output\n",
    "from sklearn.naive_bayes import GaussianNB\n",
    "gnb = GaussianNB()\n",
    "gnb.fit(transformed_msr_train_data, msr_train['class_info'])\n",
    "y_pred = gnb.predict(transformed_msr_test_data_forTesting)\n",
    "print('Naive Bayes Accuracy: %f', accuracy_score(np.ones(y_pred.shape), y_pred))"
   ]
  },
  {
   "cell_type": "markdown",
   "metadata": {},
   "source": [
    "## Neural Network"
   ]
  },
  {
   "cell_type": "code",
   "execution_count": 37,
   "metadata": {},
   "outputs": [
    {
     "name": "stdout",
     "output_type": "stream",
     "text": [
      "Neural Network Accuracy: %f 0.6547619047619048\n"
     ]
    }
   ],
   "source": [
    "# Train a Neural Network MLP classifier based on the PCA output\n",
    "from sklearn.neural_network import MLPClassifier\n",
    "clf = MLPClassifier(solver='lbfgs', alpha=1e-5,\n",
    "                    hidden_layer_sizes=(5,2), random_state=1)\n",
    "clf.fit(transformed_msr_train_data, msr_train['class_info'])\n",
    "y_pred = clf.predict(transformed_msr_test_data_forTesting)\n",
    "print('Neural Network Accuracy: %f', accuracy_score(np.ones(y_pred.shape), y_pred))"
   ]
  },
  {
   "cell_type": "markdown",
   "metadata": {},
   "source": [
    "## Combining MSR and TE datasets to improve accuracy"
   ]
  },
  {
   "cell_type": "markdown",
   "metadata": {},
   "source": [
    "To improve the accuracy of the classifers above, we combined the MSR training and TE datasets to perform predictions on the MSR test data set. The MSR and TE datasets had 13 overlapping features:\n",
    "- Jitter\n",
    "- Jitter(Abs)\n",
    "- Jitter:RAP\n",
    "- Jitter:PPQ5\n",
    "- Jitter:DDP\n",
    "- Shimmer\n",
    "- Shimmer(dB)\n",
    "- Shimmer:APQ3\n",
    "- Shimmer:APQ5\n",
    "- Shimmer:APQ11\n",
    "- Shimmer:DDA\n",
    "- NHR\n",
    "- HNR\n",
    "\n",
    "We reduced the MSR training set and TE datasets to these features and performed predictions. As you can see, after combining both sets, our accuracy improved for each classifier."
   ]
  },
  {
   "cell_type": "code",
   "execution_count": 127,
   "metadata": {},
   "outputs": [
    {
     "name": "stdout",
     "output_type": "stream",
     "text": [
      "data/mozillaClips/clips_0_data.csv\n"
     ]
    },
    {
     "name": "stderr",
     "output_type": "stream",
     "text": [
      "/Library/Python/3.7/site-packages/pandas/core/ops/__init__.py:1115: FutureWarning: elementwise comparison failed; returning scalar instead, but in the future will perform elementwise comparison\n",
      "  result = method(y)\n"
     ]
    }
   ],
   "source": [
    "import pandas as pd\n",
    "def loadData(i):\n",
    "    filename = \"data/mozillaClips/clips_\" + str(i) + \"_data.csv\"\n",
    "    print(filename)\n",
    "    df = pd.read_csv(filename)\n",
    "    consideredCols =['Jitter (local)',\n",
    "       'Jitter (local, absolute)', 'Jitter (rap)', 'Jitter (ppq5)',\n",
    "       'Jitter (ddp)', 'Shimmer (local)', 'Shimmer (local, dB)',\n",
    "       'Shimmer (apq3)', 'Shimmer (apq5)', 'Shimmer (apq11)', 'Shimmer (dda)',\n",
    "       'Mean noise-to-harmonics ratio', 'Mean harmonics-to-noise ratio']\n",
    "    consideredCols = ['Jitter', 'Jitter(Abs)', 'Jitter:RAP', 'Jitter:PPQ5', 'Jitter:DDP',\n",
    "       'Shimmer', 'Shimmer(dB)', 'Shimmer:APQ3', 'Shimmer:APQ5',\n",
    "       'Shimmer:APQ11', 'Shimmer:DDA', 'NHR', 'HNR']\n",
    "    #print(df[consideredCols])\n",
    "    keyMap = {'Jitter (local)': \"Jitter\",'Jitter (local, absolute)': \"Jitter(Abs)\", \n",
    "              'Jitter (rap)': \"Jitter:RAP\", 'Jitter (ppq5)': \"Jitter:PPQ5\",\n",
    "               'Jitter (ddp)': \"Jitter:DDP\", 'Shimmer (local)': \"Shimmer\", \n",
    "               'Shimmer (apq3)': \"Shimmer:APQ3\", 'Shimmer (apq5)': \"Shimmer:APQ5\", \n",
    "              'Shimmer (apq11)': \"Shimmer:APQ11\", 'Shimmer (dda)': \"Shimmer:DDA\",\n",
    "               'Mean autocorrelation': \"AC\", 'Mean noise-to-harmonics ratio': \"NHR\",\n",
    "              'Shimmer (local, dB)': \"Shimmer(dB)\",'Mean harmonics-to-noise ratio': \"HNR\"}\n",
    "    \n",
    "    \"\"\"{'Jitter (local)': \"jitter_local\",'Jitter (local, absolute)': \"jitter_local_absolute\", \n",
    "              'Jitter (rap)': \"jitter_rap\", 'Jitter (ppq5)': \"jitter_ppq5\",\n",
    "               'Jitter (ddp)': \"jitter_ddp\", 'Shimmer (local)': \"shimmer_local\", \n",
    "               'Shimmer (apq3)': \"shimmer_apq3\", 'Shimmer (apq5)': \"shimmer_apq5\", \n",
    "              'Shimmer (apq11)': \"shimmer_apq11\", 'Shimmer (dda)': \"shimmer_dda\",\n",
    "               'Mean autocorrelation': \"AC\", 'Mean noise-to-harmonics ratio': \"NTH\",\n",
    "              'Shimmer (local, dB)': \"shimmer_local_db\",'Mean harmonics-to-noise ratio': \"HTN\"}\n",
    "    \"\"\"\n",
    "    df = df[~df.eq(\"--undefined--\").any(1)] \n",
    "    df = df.rename(columns=keyMap)\n",
    "    return df\n",
    "    \n",
    "raw_mozilla_dataset = loadData(0)"
   ]
  },
  {
   "cell_type": "code",
   "execution_count": 128,
   "metadata": {},
   "outputs": [
    {
     "name": "stdout",
     "output_type": "stream",
     "text": [
      "Components making 99% of variance: 8\n"
     ]
    }
   ],
   "source": [
    "# Scale and Transform data\n",
    "msrtrain_TE = pd.read_csv('./data/multiple-sound-recording/TE_MSRtrain_combined.csv')\n",
    "msr_TE_columns = msrtrain_TE.columns[4:17]\n",
    "scaler_thingy = preprocessing.StandardScaler().fit(msrtrain_TE[msr_TE_columns])\n",
    "scaled_msrtrain_TE = pd.DataFrame(scaler_thingy.transform(msrtrain_TE[msr_TE_columns]), columns = msr_TE_columns)\n",
    "scaled_mozilla_dataset = pd.DataFrame(scaler_thingy.transform(raw_mozilla_dataset[msr_TE_columns]), columns = msr_TE_columns)\n",
    "pca = PCA()\n",
    "pca.fit(scaled_msrtrain_TE)\n",
    "n_components_msrTE = intrinsic_dimension(pca.explained_variance_ratio_)\n",
    "print(f\"Components making 99% of variance: {n_components_msrTE}\")\n",
    "pca = PCA(n_components=n_components_msrTE)\n",
    "transformed_msrtrain_TE = pca.fit_transform(scaled_msrtrain_TE)\n",
    "transformed_mozilla_dataset = pca.transform(scaled_mozilla_dataset)\n",
    "\n",
    "#MSR testing data\n",
    "# select overlapping features\n",
    "msr_test_data_TEmsr = msr_test_data[['jitter_local', 'jitter_local_absolute',\n",
    "               'jitter_rap', 'jitter_ppq5', 'jitter_ddp', 'shimmer_local',\n",
    "               'shimmer_local_db', 'shimmer_apq3', 'shimmer_apq5', \n",
    "               'shimmer_apq11', 'shimmer_data', 'NTH', 'HTN']]\n",
    "# use same feature names\n",
    "msr_test_data_TEmsr.columns = msrtrain_TE.columns[4:17]\n",
    "#reduce dimensionality\n",
    "scaled_msr_test_data_TEmsr = pd.DataFrame(scaler_thingy.transform(msr_test_data_TEmsr[msr_TE_columns]), columns = msr_TE_columns)\n",
    "transformed_msr_test_data_TEmsr_forTesting = pca.transform(scaled_msr_test_data_TEmsr)"
   ]
  },
  {
   "cell_type": "markdown",
   "metadata": {},
   "source": [
    "### SVM classifier"
   ]
  },
  {
   "cell_type": "code",
   "execution_count": 107,
   "metadata": {},
   "outputs": [
    {
     "name": "stdout",
     "output_type": "stream",
     "text": [
      "Linear Accuracy: 100.0 %\n",
      "Linear Prediction for Mozilla: 0.9983157421962722\n"
     ]
    },
    {
     "name": "stderr",
     "output_type": "stream",
     "text": [
      "/Library/Python/3.7/site-packages/sklearn/svm/base.py:193: FutureWarning: The default value of gamma will change from 'auto' to 'scale' in version 0.22 to account better for unscaled features. Set gamma explicitly to 'auto' or 'scale' to avoid this warning.\n",
      "  \"avoid this warning.\", FutureWarning)\n"
     ]
    },
    {
     "name": "stdout",
     "output_type": "stream",
     "text": [
      "RBF Accuracy: 99.4 %\n",
      "RBF Prediction for Mozilla: 0.7387154727150236\n"
     ]
    },
    {
     "name": "stderr",
     "output_type": "stream",
     "text": [
      "/Library/Python/3.7/site-packages/sklearn/svm/base.py:193: FutureWarning: The default value of gamma will change from 'auto' to 'scale' in version 0.22 to account better for unscaled features. Set gamma explicitly to 'auto' or 'scale' to avoid this warning.\n",
      "  \"avoid this warning.\", FutureWarning)\n"
     ]
    },
    {
     "name": "stdout",
     "output_type": "stream",
     "text": [
      "Poly Accuracy: 99.4 %\n",
      "Poly Prediction for Mozilla: 0.9428475185268358\n"
     ]
    }
   ],
   "source": [
    "clf_linear = svm.SVC(kernel='linear')\n",
    "clf_linear.fit(transformed_msrtrain_TE, msrtrain_TE.Class) \n",
    "y_pred = clf_linear.predict(transformed_msr_test_data_TEmsr_forTesting)\n",
    "print('Linear Accuracy:', 100*round(accuracy_score(np.ones(y_pred.shape), y_pred),3),'%')\n",
    "mozilla_pred_linear = clf_linear.predict(transformed_mozilla_dataset)\n",
    "print('Linear Prediction for Mozilla:', np.where(mozilla_pred_linear == 1)[0].shape[0] / mozilla_pred_linear.shape[0])\n",
    "\n",
    "clf_rbf = svm.SVC(kernel='rbf')\n",
    "clf_rbf.fit(transformed_msrtrain_TE, msrtrain_TE.Class)  \n",
    "y_pred = clf_rbf.predict(transformed_msr_test_data_TEmsr_forTesting)\n",
    "print('RBF Accuracy:', 100*round(accuracy_score(np.ones(y_pred.shape), y_pred),3),'%')\n",
    "mozilla_pred_rbf = clf_rbf.predict(transformed_mozilla_dataset)\n",
    "print('RBF Prediction for Mozilla:', np.where(mozilla_pred_rbf == 1)[0].shape[0] / mozilla_pred_rbf.shape[0])\n",
    "\n",
    "clf_poly = svm.SVC(kernel='poly')\n",
    "clf_poly.fit(transformed_msrtrain_TE, msrtrain_TE.Class) \n",
    "y_pred = clf_poly.predict(transformed_msr_test_data_TEmsr_forTesting)\n",
    "print('Poly Accuracy:', 100*round(accuracy_score(np.ones(y_pred.shape), y_pred),3),'%')\n",
    "mozilla_pred = clf_poly.predict(transformed_mozilla_dataset)\n",
    "print('Poly Prediction for Mozilla:',np.where(mozilla_pred == 1)[0].shape[0] / mozilla_pred.shape[0])"
   ]
  },
  {
   "cell_type": "markdown",
   "metadata": {},
   "source": [
    "### Random Forest Classifier"
   ]
  },
  {
   "cell_type": "code",
   "execution_count": 117,
   "metadata": {},
   "outputs": [
    {
     "name": "stdout",
     "output_type": "stream",
     "text": [
      "Random Forest Accuracy: 100.0 %\n",
      "Poly Prediction for Mozilla: 1.0\n"
     ]
    }
   ],
   "source": [
    "# Train a Random Forest classifier based on the PCA output\n",
    "clf = RandomForestClassifier(n_estimators=100, max_depth=2, random_state=0)\n",
    "clf.fit(transformed_msrtrain_TE, msrtrain_TE.Class)   \n",
    "y_pred = clf.predict(transformed_msr_test_data_TEmsr_forTesting)\n",
    "print('Random Forest Accuracy:', 100*round(accuracy_score(np.ones(y_pred.shape), y_pred),3),'%')\n",
    "mozilla_pred_randomForest = clf.predict(transformed_mozilla_dataset)\n",
    "print('Prediction for Mozilla:',np.where(mozilla_pred_randomForest == 1)[0].shape[0] / mozilla_pred_randomForest.shape[0])"
   ]
  },
  {
   "cell_type": "markdown",
   "metadata": {},
   "source": [
    "### Decision Tree"
   ]
  },
  {
   "cell_type": "code",
   "execution_count": 116,
   "metadata": {},
   "outputs": [
    {
     "name": "stdout",
     "output_type": "stream",
     "text": [
      "Decision Tree Accuracy: 90.5 %\n",
      "Poly Prediction for Mozilla: 0.611497866606782\n"
     ]
    }
   ],
   "source": [
    "clf = DecisionTreeClassifier(random_state=3)\n",
    "clf.fit(transformed_msrtrain_TE, msrtrain_TE.Class)   \n",
    "y_pred = clf.predict(transformed_msr_test_data_TEmsr_forTesting)\n",
    "print('Decision Tree Accuracy:', 100*round(accuracy_score(np.ones(y_pred.shape), y_pred),3),'%')\n",
    "mozilla_pred_Tree = clf.predict(transformed_mozilla_dataset)\n",
    "print('Prediction for Mozilla:',np.where(mozilla_pred_Tree == 1)[0].shape[0] / mozilla_pred_Tree.shape[0])"
   ]
  },
  {
   "cell_type": "markdown",
   "metadata": {},
   "source": [
    "### Naïve Bayes"
   ]
  },
  {
   "cell_type": "code",
   "execution_count": 115,
   "metadata": {},
   "outputs": [
    {
     "name": "stdout",
     "output_type": "stream",
     "text": [
      "Naïve Bayes Accuracy: 89.9 %\n",
      "Poly Prediction for Mozilla: 0.49068044015270607\n"
     ]
    }
   ],
   "source": [
    "gnb = GaussianNB()\n",
    "gnb.fit(transformed_msrtrain_TE, msrtrain_TE.Class)\n",
    "y_pred = gnb.predict(transformed_msr_test_data_TEmsr_forTesting)\n",
    "print('Naïve Bayes Accuracy:', 100*round(accuracy_score(np.ones(y_pred.shape), y_pred),3),'%')\n",
    "mozilla_pred_naiiveBayes = gnb.predict(transformed_mozilla_dataset)\n",
    "print('Prediction for Mozilla:',np.where(mozilla_pred_naiiveBayes == 1)[0].shape[0] / mozilla_pred_naiiveBayes.shape[0])"
   ]
  },
  {
   "cell_type": "markdown",
   "metadata": {},
   "source": [
    "### Neural Network"
   ]
  },
  {
   "cell_type": "code",
   "execution_count": 114,
   "metadata": {},
   "outputs": [
    {
     "name": "stdout",
     "output_type": "stream",
     "text": [
      "Neural Network Accuracy: 100.0 %\n",
      "Poly Prediction for Mozilla: 1.0\n"
     ]
    }
   ],
   "source": [
    "clf = MLPClassifier(solver='lbfgs', alpha=1e-5,\n",
    "                    hidden_layer_sizes=(5,2), random_state=1)\n",
    "clf.fit(transformed_msrtrain_TE, msrtrain_TE.Class)\n",
    "y_pred = clf.predict(transformed_msr_test_data_TEmsr_forTesting)\n",
    "print('Neural Network Accuracy:', 100*accuracy_score(np.ones(y_pred.shape), y_pred), '%')\n",
    "mozilla_pred_NN = clf.predict(transformed_mozilla_dataset)\n",
    "print(\"Prediction for Mozilla:',np.where(mozilla_pred_NN == 1)[0].shape[0] / mozilla_pred_NN.shape[0])"
   ]
  },
  {
   "cell_type": "markdown",
   "metadata": {},
   "source": [
    "## Predicting UPDRS Score\n",
    "Parkinson's severity is scored on the UPDRS score. Since we have these scores for the MSR training dataset and the TE dataset, we wanted to test if we could predict these scores with random forest and ridge regression. Again, we will use the TE and MSR training combined set. This time, the data will be normalized (l2 norm) before using the supervised learning algorithms."
   ]
  },
  {
   "cell_type": "code",
   "execution_count": 119,
   "metadata": {},
   "outputs": [],
   "source": [
    "msr_TE_columns = msrtrain_TE.columns[4:17]\n",
    "# l2 normalize each feature\n",
    "normTEmsr = pd.DataFrame(preprocessing.normalize(msrtrain_TE[msr_TE_columns], norm='l2',axis=1), columns = msr_TE_columns)\n",
    "normMozilla = pd.DataFrame(preprocessing.normalize(raw_mozilla_dataset[msr_TE_columns], norm='l2',axis=1), columns = msr_TE_columns)\n",
    "labels = np.array(msrtrain_TE.UPDRS)\n",
    "\n",
    "# now split into test (10%), and train (90%) sets since the MSR test data set does not have UPDRS scores\n",
    "from sklearn.model_selection import train_test_split\n",
    "train, test, trainy, testy = train_test_split(normTEmsr, labels, test_size = 0.1, random_state=3)"
   ]
  },
  {
   "cell_type": "markdown",
   "metadata": {},
   "source": [
    "### Random Forest Regressor"
   ]
  },
  {
   "cell_type": "code",
   "execution_count": 45,
   "metadata": {},
   "outputs": [
    {
     "data": {
      "image/png": "[encoded data removed]",
      "text/plain": [
       "<Figure size 432x288 with 1 Axes>"
      ]
     },
     "metadata": {
      "needs_background": "light"
     },
     "output_type": "display_data"
    }
   ],
   "source": [
    "# Choose number of trees\n",
    "from sklearn.ensemble import RandomForestRegressor\n",
    "trees = [1,2,3,5,10,50,100,150,250,500]\n",
    "RMSE = []\n",
    "for i in trees:\n",
    "    rf = RandomForestRegressor(n_estimators=i, random_state=3)\n",
    "    rf.fit(train, trainy)\n",
    "    predictions = rf.predict(test)\n",
    "    RMSE.append(np.sqrt(metrics.mean_squared_error(testy, predictions)))\n",
    "plt.plot(trees, RMSE, '-o')\n",
    "plt.xlabel('# of Trees')\n",
    "plt.ylabel('RMSE');"
   ]
  },
  {
   "cell_type": "code",
   "execution_count": 124,
   "metadata": {},
   "outputs": [
    {
     "name": "stdout",
     "output_type": "stream",
     "text": [
      "Mean Absolute Error: 9.21\n",
      "Root Mean Squared Error: 11.59\n",
      "(8906,)\n",
      "(6142,)\n"
     ]
    },
    {
     "data": {
      "image/png": "[encoded data removed]",
      "text/plain": [
       "<Figure size 432x288 with 1 Axes>"
      ]
     },
     "metadata": {
      "needs_background": "light"
     },
     "output_type": "display_data"
    },
    {
     "data": {
      "image/png": "[encoded data removed]",
      "text/plain": [
       "<Figure size 432x288 with 1 Axes>"
      ]
     },
     "metadata": {
      "needs_background": "light"
     },
     "output_type": "display_data"
    }
   ],
   "source": [
    "# Using 100 trees as determined above\n",
    "rf = RandomForestRegressor(n_estimators=100, random_state=3)\n",
    "rf.fit(train, trainy)\n",
    "predictions = rf.predict(test)\n",
    "print('Mean Absolute Error:', round(metrics.mean_absolute_error(testy, predictions),2))\n",
    "print('Root Mean Squared Error:', round(np.sqrt(metrics.mean_squared_error(testy, predictions)),2))\n",
    "plt.plot(testy, predictions, '.', color='b')\n",
    "plt.xlabel('Observed UPDRS')\n",
    "plt.ylabel('Predicted UPDRS');\n",
    "mozillaPredictions = rf.predict(normMozilla)\n",
    "print(np.where(mozillaPredictions > 1)[0].shape)\n",
    "plt.figure()\n",
    "plt.boxplot(mozillaPredictions)\n"
   ]
  },
  {
   "cell_type": "code",
   "execution_count": 136,
   "metadata": {},
   "outputs": [
    {
     "ename": "SyntaxError",
     "evalue": "invalid syntax (<ipython-input-136-9888b1f25dd5>, line 3)",
     "output_type": "error",
     "traceback": [
      "\u001b[0;36m  File \u001b[0;32m\"<ipython-input-136-9888b1f25dd5>\"\u001b[0;36m, line \u001b[0;32m3\u001b[0m\n\u001b[0;31m    raw_mozilla_dataset.iloc(, axis=)\u001b[0m\n\u001b[0m                             ^\u001b[0m\n\u001b[0;31mSyntaxError\u001b[0m\u001b[0;31m:\u001b[0m invalid syntax\n"
     ]
    }
   ],
   "source": [
    "print(np.where(mozillaPredictions > 33)[0])\n",
    "indexes=np.where(mozillaPredictions > 33)[0]\n",
    "raw_mozilla_dataset.iloc(, axis=)"
   ]
  },
  {
   "cell_type": "markdown",
   "metadata": {},
   "source": [
    "Now, the random forest is not accurate for non-Parkinson's people. However, removing patients with UPDRS scores of 1 does not greatly improve the random forest (similar RMSE)."
   ]
  },
  {
   "cell_type": "code",
   "execution_count": 100,
   "metadata": {},
   "outputs": [
    {
     "name": "stdout",
     "output_type": "stream",
     "text": [
      "Mean Absolute Error: 9.21\n",
      "Root Mean Squared Error: 11.59\n",
      "Index(['Jitter', 'Jitter(Abs)', 'Jitter:RAP', 'Jitter:PPQ5', 'Jitter:DDP',\n",
      "       'Shimmer', 'Shimmer(dB)', 'Shimmer:APQ3', 'Shimmer:APQ5',\n",
      "       'Shimmer:APQ11', 'Shimmer:DDA', 'NHR', 'HNR'],\n",
      "      dtype='object')\n"
     ]
    },
    {
     "ename": "AttributeError",
     "evalue": "'numpy.ndarray' object has no attribute 'columns'",
     "output_type": "error",
     "traceback": [
      "\u001b[0;31m---------------------------------------------------------------------------\u001b[0m",
      "\u001b[0;31mAttributeError\u001b[0m                            Traceback (most recent call last)",
      "\u001b[0;32m<ipython-input-100-389b5dcc8dc5>\u001b[0m in \u001b[0;36m<module>\u001b[0;34m\u001b[0m\n\u001b[1;32m     15\u001b[0m \u001b[0mplt\u001b[0m\u001b[0;34m.\u001b[0m\u001b[0mylabel\u001b[0m\u001b[0;34m(\u001b[0m\u001b[0;34m'Predicted UPDRS'\u001b[0m\u001b[0;34m)\u001b[0m\u001b[0;34m\u001b[0m\u001b[0;34m\u001b[0m\u001b[0m\n\u001b[1;32m     16\u001b[0m \u001b[0mprint\u001b[0m\u001b[0;34m(\u001b[0m\u001b[0mmsr_TE_columns\u001b[0m\u001b[0;34m)\u001b[0m\u001b[0;34m\u001b[0m\u001b[0;34m\u001b[0m\u001b[0m\n\u001b[0;32m---> 17\u001b[0;31m \u001b[0mprint\u001b[0m\u001b[0;34m(\u001b[0m\u001b[0mtransformed_mozilla_dataset\u001b[0m\u001b[0;34m.\u001b[0m\u001b[0mcolumns\u001b[0m\u001b[0;34m)\u001b[0m\u001b[0;34m\u001b[0m\u001b[0;34m\u001b[0m\u001b[0m\n\u001b[0m\u001b[1;32m     18\u001b[0m \u001b[0;31m#mozilla_pred_randomForestUPDRS = rf.predict(transformed_mozilla_dataset[msr_TE_columns])\u001b[0m\u001b[0;34m\u001b[0m\u001b[0;34m\u001b[0m\u001b[0;34m\u001b[0m\u001b[0m\n\u001b[1;32m     19\u001b[0m \u001b[0;31m#print('Prediction for Mozilla:',np.where(mozilla_pred_randomForestUPDRS != 1)[0].shape[0] / mozilla_pred_randomForestUPDRS.shape[0])\u001b[0m\u001b[0;34m\u001b[0m\u001b[0;34m\u001b[0m\u001b[0;34m\u001b[0m\u001b[0m\n",
      "\u001b[0;31mAttributeError\u001b[0m: 'numpy.ndarray' object has no attribute 'columns'"
     ]
    },
    {
     "data": {
      "image/png": "[encoded data removed]",
      "text/plain": [
       "<Figure size 432x288 with 1 Axes>"
      ]
     },
     "metadata": {
      "needs_background": "light"
     },
     "output_type": "display_data"
    }
   ],
   "source": [
    "noones = msrtrain_TE\n",
    "labels_noone = np.array(msrtrain_TE.loc[labels>1].UPDRS)\n",
    "\n",
    "normpark = pd.DataFrame(preprocessing.normalize(noones[msr_TE_columns], norm='l2',axis=1), columns = msr_TE_columns)\n",
    "labels = np.array(noones.UPDRS)\n",
    "# now split into test (10%), and train (90%) sets \n",
    "train, test, trainy, testy = train_test_split(normpark, labels, test_size = 0.1, random_state=3)\n",
    "rf = RandomForestRegressor(n_estimators=100, random_state=3)\n",
    "rf.fit(train, trainy)\n",
    "predictions = rf.predict(test)\n",
    "print('Mean Absolute Error:', round(metrics.mean_absolute_error(testy, predictions),2))\n",
    "print('Root Mean Squared Error:', round(np.sqrt(metrics.mean_squared_error(testy, predictions)),2))\n",
    "plt.plot(testy, predictions, '.', color='b')\n",
    "plt.xlabel('Observed UPDRS')\n",
    "plt.ylabel('Predicted UPDRS')\n",
    "#mozilla_pred_randomForestUPDRS = rf.predict(transformed_mozilla_dataset[msr_TE_columns])\n",
    "#print('Prediction for Mozilla:',np.where(mozilla_pred_randomForestUPDRS != 1)[0].shape[0] / mozilla_pred_randomForestUPDRS.shape[0])"
   ]
  },
  {
   "cell_type": "code",
   "execution_count": 44,
   "metadata": {},
   "outputs": [
    {
     "data": {
      "image/png": "[encoded data removed]",
      "text/plain": [
       "<Figure size 432x288 with 1 Axes>"
      ]
     },
     "metadata": {
      "needs_background": "light"
     },
     "output_type": "display_data"
    }
   ],
   "source": [
    "# Now let's investigate the most important features in this random forest\n",
    "importances = list(rf.feature_importances_)\n",
    "x = list(range(len(importances)))\n",
    "plt.bar(x, importances, orientation = 'vertical')\n",
    "plt.xticks(x, msr_TE_columns, rotation='vertical')\n",
    "plt.ylabel('Importance')\n",
    "plt.xlabel('Feature')\n",
    "plt.title('Feature Importances');"
   ]
  },
  {
   "cell_type": "code",
   "execution_count": 48,
   "metadata": {},
   "outputs": [
    {
     "name": "stdout",
     "output_type": "stream",
     "text": [
      "Mean Absolute Error: 8.3\n",
      "Root Mean Squared Error: 10.46\n"
     ]
    }
   ],
   "source": [
    "# Linear regression\n",
    "from sklearn.ensemble import ExtraTreesRegressor\n",
    "reg = ExtraTreesRegressor(n_estimators=100, random_state=2, min_samples_split=3).fit(train, trainy)\n",
    "predictions = reg.predict(test)\n",
    "print('Mean Absolute Error:', round(metrics.mean_absolute_error(testy, predictions),2))\n",
    "print('Root Mean Squared Error:', round(np.sqrt(metrics.mean_squared_error(testy, predictions)),2))"
   ]
  },
  {
   "cell_type": "markdown",
   "metadata": {},
   "source": [
    "Now let's try using our PCA components for these regressors"
   ]
  },
  {
   "cell_type": "code",
   "execution_count": 49,
   "metadata": {},
   "outputs": [
    {
     "name": "stdout",
     "output_type": "stream",
     "text": [
      "Components making 99% of variance: 8\n",
      "Mean Absolute Error: 8.64\n",
      "Root Mean Squared Error: 11.27\n"
     ]
    },
    {
     "data": {
      "text/plain": [
       "Text(0, 0.5, 'Predicted UPDRS')"
      ]
     },
     "execution_count": 49,
     "metadata": {},
     "output_type": "execute_result"
    },
    {
     "data": {
      "image/png": "[encoded data removed]",
      "text/plain": [
       "<Figure size 432x288 with 1 Axes>"
      ]
     },
     "metadata": {
      "needs_background": "light"
     },
     "output_type": "display_data"
    }
   ],
   "source": [
    "labels = np.array(msrtrain_TE.UPDRS)\n",
    "\n",
    "pca = PCA()\n",
    "pca.fit(scaled_msrtrain_TE)\n",
    "n_components_msrTE = intrinsic_dimension(pca.explained_variance_ratio_)\n",
    "print(f\"Components making 99% of variance: {n_components_msrTE}\")\n",
    "pca = PCA(n_components=n_components_msrTE)\n",
    "transformed_msrtrain_TE = pca.fit_transform(scaled_msrtrain_TE)\n",
    "\n",
    "# now split into test (10%), and train (90%) sets since the MSR test data set does not have UPDRS scores\n",
    "from sklearn.model_selection import train_test_split\n",
    "train, test, trainy, testy = train_test_split(transformed_msrtrain_TE, labels, test_size = 0.1, random_state=3)\n",
    "\n",
    "# Using 100 trees as determined above\n",
    "rf = RandomForestRegressor(n_estimators=100, random_state=3)\n",
    "rf.fit(train, trainy)\n",
    "predictions = rf.predict(test)\n",
    "print('Mean Absolute Error:', round(metrics.mean_absolute_error(testy, predictions),2))\n",
    "print('Root Mean Squared Error:', round(np.sqrt(metrics.mean_squared_error(testy, predictions)),2))\n",
    "plt.plot(testy, predictions, '.', color='b')\n",
    "plt.xlabel('Observed UPDRS')\n",
    "plt.ylabel('Predicted UPDRS')"
   ]
  },
  {
   "cell_type": "markdown",
   "metadata": {},
   "source": [
    "Getting rid of ones:"
   ]
  },
  {
   "cell_type": "code",
   "execution_count": 50,
   "metadata": {},
   "outputs": [
    {
     "name": "stdout",
     "output_type": "stream",
     "text": [
      "Components making 99% of variance: 7\n",
      "Mean Absolute Error: 8.08\n",
      "Root Mean Squared Error: 10.23\n"
     ]
    },
    {
     "data": {
      "text/plain": [
       "Text(0, 0.5, 'Predicted UPDRS')"
      ]
     },
     "execution_count": 50,
     "metadata": {},
     "output_type": "execute_result"
    },
    {
     "data": {
      "image/png": "[encoded data removed]",
      "text/plain": [
       "<Figure size 432x288 with 1 Axes>"
      ]
     },
     "metadata": {
      "needs_background": "light"
     },
     "output_type": "display_data"
    }
   ],
   "source": [
    "noones = msrtrain_TE.loc[labels>1]\n",
    "labels_noone = np.array(msrtrain_TE.loc[labels>1].UPDRS)\n",
    "\n",
    "scaled_msrtrain_TE = pd.DataFrame(preprocessing.scale(noones[msr_TE_columns]), columns = msr_TE_columns)\n",
    "pca = PCA()\n",
    "pca.fit(scaled_msrtrain_TE)\n",
    "n_components_msrTE = intrinsic_dimension(pca.explained_variance_ratio_)\n",
    "print(f\"Components making 99% of variance: {n_components_msrTE}\")\n",
    "pca = PCA(n_components=n_components_msrTE)\n",
    "msrtrain_TE_pca = pca.fit_transform(scaled_msrtrain_TE)\n",
    "## END OF TEST\n",
    "\n",
    "# now split into test (10%), and train (90%) sets \n",
    "train, test, trainy, testy = train_test_split(msrtrain_TE_pca, labels_noone, test_size = 0.1, random_state=3)\n",
    "rf = RandomForestRegressor(n_estimators=100, random_state=3)\n",
    "rf.fit(train, trainy)\n",
    "predictions = rf.predict(test)\n",
    "print('Mean Absolute Error:', round(metrics.mean_absolute_error(testy, predictions),2))\n",
    "print('Root Mean Squared Error:', round(np.sqrt(metrics.mean_squared_error(testy, predictions)),2))\n",
    "plt.plot(testy, predictions, '.', color='b')\n",
    "plt.xlabel('Observed UPDRS')\n",
    "plt.ylabel('Predicted UPDRS')"
   ]
  },
  {
   "cell_type": "code",
   "execution_count": 51,
   "metadata": {},
   "outputs": [
    {
     "name": "stdout",
     "output_type": "stream",
     "text": [
      "Mean Absolute Error: 8.16\n",
      "Root Mean Squared Error: 10.26\n"
     ]
    }
   ],
   "source": [
    "# Linear regression\n",
    "from sklearn.ensemble import ExtraTreesRegressor\n",
    "reg = ExtraTreesRegressor(n_estimators=100, random_state=2, min_samples_split=3).fit(train, trainy)\n",
    "predictions = reg.predict(test)\n",
    "print('Mean Absolute Error:', round(metrics.mean_absolute_error(testy, predictions),2))\n",
    "print('Root Mean Squared Error:', round(np.sqrt(metrics.mean_squared_error(testy, predictions)),2))"
   ]
  },
  {
   "cell_type": "code",
   "execution_count": 53,
   "metadata": {},
   "outputs": [
    {
     "name": "stdout",
     "output_type": "stream",
     "text": [
      "[[-1.06527706e+00  1.88268433e-01 -1.90345695e-01 ...  7.15160289e-02\n",
      "   2.24883091e-01 -1.10243351e-01]\n",
      " [-1.40399736e+00  1.60737971e-01 -2.50151948e-02 ... -4.76038529e-02\n",
      "  -6.64751492e-03 -5.85766991e-02]\n",
      " [-2.47609587e+00  2.06087746e-01  5.32962590e-01 ...  1.65775549e-01\n",
      "  -2.56146344e-01  5.78705009e-02]\n",
      " ...\n",
      " [-1.45154744e+00 -1.81591107e-01 -2.76271293e-01 ...  1.26345344e-01\n",
      "   1.79159244e-01 -1.01634239e-02]\n",
      " [-7.71675437e-01  1.98152644e-01 -5.14657999e-01 ... -4.04482687e-02\n",
      "   3.82671414e-01 -1.08348085e-01]\n",
      " [ 9.81488844e+00 -1.66679904e+00 -2.65038814e-01 ...  1.11672356e+00\n",
      "  -5.17317005e-01 -5.54064445e-02]]\n"
     ]
    }
   ],
   "source": []
  },
  {
   "cell_type": "markdown",
   "metadata": {},
   "source": [
    "## Library for audio feature extraction\n",
    "- Original software: http://www.fon.hum.uva.nl/praat/ (it seems they don't have one for MacOS...)\n",
    "- Another related source: https://github.com/jcvasquezc/DisVoice/tree/master/phonation\n",
    "- Python port of Praat https://github.com/YannickJadoul/Parselmouth (We will be using this for feature computation)\n",
    "- Script based on: https://github.com/drfeinberg/PraatScripts\n",
    "\n",
    "## Feature description:\n",
    "- Jitter: analysis of speaker's voic pitch\n",
    "- Shimmer: analysis of speaker's voice amplitude\n",
    "Ref: https://www.cs.upc.edu/~nlp/papers/far_jit_07.pdf"
   ]
  },
  {
   "cell_type": "markdown",
   "metadata": {},
   "source": [
    "## Demo Feature Extraction From Sound Files\n",
    "Things Extracted:\n",
    "- mean pitch, stdev pitch, harmonicity mean, jitter(local), jitter(abs, local), jitter(rap), ppq5Jitter, jitter(ddp), shimmer(local), shimmer(localdb), shimmer(apq3), shimmer(apq5), shimmer(apq11), shimmer(dda), mean period, stdev period, num periods, HTN (aka HNR)\n",
    "This to find:\n",
    "- anything on voice breaks\n",
    "- unvoiced frames\n",
    "- min pitch\n",
    "- max pitch\n",
    "- NTH\n",
    "- Autocorrelation (harmonicity)\n"
   ]
  },
  {
   "cell_type": "code",
   "execution_count": null,
   "metadata": {},
   "outputs": [],
   "source": [
    "# imports \n",
    "import parselmouth\n",
    "from parselmouth.praat import call\n",
    "sound = parselmouth.Sound(\"data/mozillaClips/tstClip.mp3\")"
   ]
  },
  {
   "cell_type": "code",
   "execution_count": null,
   "metadata": {},
   "outputs": [],
   "source": [
    "f0min = 75\n",
    "f0max = 600\n",
    "unit = \"Hertz\"\n",
    "#using male default params\n",
    "pitch = call(sound, \"To Pitch\", 0.0, f0min, f0max) \n",
    "meanF0 = call(pitch, \"Get mean\", 0, 0, unit) \n",
    "stdevF0 = call(pitch, \"Get standard deviation\", 0 ,0, unit) \n",
    "harmonicity = call(sound, \"To Harmonicity (cc)\", 0.01, 75, 0.1, 1.0)\n",
    "hnr = call(harmonicity, \"Get mean\", 0, 0)\n",
    "pointProcess = call(sound, \"To PointProcess (periodic, cc)\", f0min, f0max)\n",
    "localJitter = call(pointProcess, \"Get jitter (local)\", 0, 0, 0.0001, 0.02, 1.3)\n",
    "localabsoluteJitter = call(pointProcess, \"Get jitter (local, absolute)\", 0, 0, 0.0001, 0.02, 1.3)\n",
    "rapJitter = call(pointProcess, \"Get jitter (rap)\", 0, 0, 0.0001, 0.02, 1.3)\n",
    "ppq5Jitter = call(pointProcess, \"Get jitter (ppq5)\", 0, 0, 0.0001, 0.02, 1.3)\n",
    "ddpJitter = call(pointProcess, \"Get jitter (ddp)\", 0, 0, 0.0001, 0.02, 1.3)\n",
    "localShimmer =  call([sound, pointProcess], \"Get shimmer (local)\", 0, 0, 0.0001, 0.02, 1.3, 1.6)\n",
    "localdbShimmer = call([sound, pointProcess], \"Get shimmer (local_dB)\", 0, 0, 0.0001, 0.02, 1.3, 1.6)\n",
    "apq3Shimmer = call([sound, pointProcess], \"Get shimmer (apq3)\", 0, 0, 0.0001, 0.02, 1.3, 1.6)\n",
    "aqpq5Shimmer = call([sound, pointProcess], \"Get shimmer (apq5)\", 0, 0, 0.0001, 0.02, 1.3, 1.6)\n",
    "apq11Shimmer =  call([sound, pointProcess], \"Get shimmer (apq11)\", 0, 0, 0.0001, 0.02, 1.3, 1.6)\n",
    "ddaShimmer = call([sound, pointProcess], \"Get shimmer (dda)\", 0, 0, 0.0001, 0.02, 1.3, 1.6)\n",
    "print(meanF0, stdevF0, hnr, localJitter, localabsoluteJitter, rapJitter, ppq5Jitter, ddpJitter, localShimmer, localdbShimmer, apq3Shimmer, aqpq5Shimmer, apq11Shimmer, ddaShimmer)"
   ]
  },
  {
   "cell_type": "code",
   "execution_count": null,
   "metadata": {},
   "outputs": [],
   "source": [
    "meanPeriod = call(pointProcess, \"Get mean period\", 0, 0, 0.0001, 0.02, 1.3)\n",
    "print(meanPeriod)"
   ]
  },
  {
   "cell_type": "code",
   "execution_count": null,
   "metadata": {},
   "outputs": [],
   "source": [
    "standardDeviation = call(pointProcess, \"Get stdev period\", 0, 0, 0.0001, 0.02, 1.3)\n",
    "print(standardDeviation)"
   ]
  },
  {
   "cell_type": "code",
   "execution_count": null,
   "metadata": {},
   "outputs": [],
   "source": [
    "numperiods = call(pointProcess, \"Get number of periods\", 0, 0, 0.0001, 0.02, 1.3)\n",
    "print(numperiods)"
   ]
  },
  {
   "cell_type": "code",
   "execution_count": 56,
   "metadata": {},
   "outputs": [
    {
     "name": "stdout",
     "output_type": "stream",
     "text": [
      "data/mozillaClips/clips_0_data.csv\n"
     ]
    },
    {
     "data": {
      "text/html": [
       "<div>\n",
       "<style scoped>\n",
       "    .dataframe tbody tr th:only-of-type {\n",
       "        vertical-align: middle;\n",
       "    }\n",
       "\n",
       "    .dataframe tbody tr th {\n",
       "        vertical-align: top;\n",
       "    }\n",
       "\n",
       "    .dataframe thead th {\n",
       "        text-align: right;\n",
       "    }\n",
       "</style>\n",
       "<table border=\"1\" class=\"dataframe\">\n",
       "  <thead>\n",
       "    <tr style=\"text-align: right;\">\n",
       "      <th></th>\n",
       "      <th>jitter_local</th>\n",
       "      <th>jitter_local_absolute</th>\n",
       "      <th>jitter_rap</th>\n",
       "      <th>jitter_ppq5</th>\n",
       "      <th>jitter_ddp</th>\n",
       "      <th>shimmer_local</th>\n",
       "      <th>shimmer_local_db</th>\n",
       "      <th>shimmer_apq3</th>\n",
       "      <th>shimmer_apq5</th>\n",
       "      <th>shimmer_apq11</th>\n",
       "      <th>shimmer_dda</th>\n",
       "      <th>NTH</th>\n",
       "      <th>HTN</th>\n",
       "    </tr>\n",
       "  </thead>\n",
       "  <tbody>\n",
       "    <tr>\n",
       "      <th>0</th>\n",
       "      <td>2.854</td>\n",
       "      <td>306.031E-6</td>\n",
       "      <td>1.276</td>\n",
       "      <td>1.559</td>\n",
       "      <td>3.827</td>\n",
       "      <td>13.739</td>\n",
       "      <td>1.221</td>\n",
       "      <td>5.965</td>\n",
       "      <td>10.340</td>\n",
       "      <td>14.402</td>\n",
       "      <td>17.894</td>\n",
       "      <td>0.362033</td>\n",
       "      <td>7.098</td>\n",
       "    </tr>\n",
       "    <tr>\n",
       "      <th>1</th>\n",
       "      <td>3.037</td>\n",
       "      <td>326.325E-6</td>\n",
       "      <td>1.221</td>\n",
       "      <td>1.566</td>\n",
       "      <td>3.662</td>\n",
       "      <td>15.128</td>\n",
       "      <td>1.419</td>\n",
       "      <td>6.729</td>\n",
       "      <td>9.831</td>\n",
       "      <td>15.615</td>\n",
       "      <td>20.187</td>\n",
       "      <td>0.302392</td>\n",
       "      <td>7.303</td>\n",
       "    </tr>\n",
       "    <tr>\n",
       "      <th>3</th>\n",
       "      <td>5.317</td>\n",
       "      <td>303.522E-6</td>\n",
       "      <td>2.761</td>\n",
       "      <td>3.502</td>\n",
       "      <td>8.284</td>\n",
       "      <td>20.180</td>\n",
       "      <td>1.788</td>\n",
       "      <td>8.561</td>\n",
       "      <td>11.598</td>\n",
       "      <td>27.529</td>\n",
       "      <td>25.682</td>\n",
       "      <td>0.466305</td>\n",
       "      <td>4.583</td>\n",
       "    </tr>\n",
       "    <tr>\n",
       "      <th>4</th>\n",
       "      <td>3.971</td>\n",
       "      <td>267.126E-6</td>\n",
       "      <td>2.002</td>\n",
       "      <td>2.202</td>\n",
       "      <td>6.005</td>\n",
       "      <td>18.928</td>\n",
       "      <td>1.607</td>\n",
       "      <td>9.829</td>\n",
       "      <td>12.057</td>\n",
       "      <td>18.549</td>\n",
       "      <td>29.488</td>\n",
       "      <td>0.440605</td>\n",
       "      <td>5.834</td>\n",
       "    </tr>\n",
       "    <tr>\n",
       "      <th>5</th>\n",
       "      <td>3.650</td>\n",
       "      <td>258.991E-6</td>\n",
       "      <td>1.659</td>\n",
       "      <td>2.175</td>\n",
       "      <td>4.976</td>\n",
       "      <td>18.528</td>\n",
       "      <td>1.502</td>\n",
       "      <td>9.536</td>\n",
       "      <td>12.733</td>\n",
       "      <td>12.336</td>\n",
       "      <td>28.609</td>\n",
       "      <td>0.397612</td>\n",
       "      <td>6.054</td>\n",
       "    </tr>\n",
       "    <tr>\n",
       "      <th>...</th>\n",
       "      <td>...</td>\n",
       "      <td>...</td>\n",
       "      <td>...</td>\n",
       "      <td>...</td>\n",
       "      <td>...</td>\n",
       "      <td>...</td>\n",
       "      <td>...</td>\n",
       "      <td>...</td>\n",
       "      <td>...</td>\n",
       "      <td>...</td>\n",
       "      <td>...</td>\n",
       "      <td>...</td>\n",
       "      <td>...</td>\n",
       "    </tr>\n",
       "    <tr>\n",
       "      <th>9009</th>\n",
       "      <td>2.024</td>\n",
       "      <td>157.318E-6</td>\n",
       "      <td>0.939</td>\n",
       "      <td>1.124</td>\n",
       "      <td>2.818</td>\n",
       "      <td>15.381</td>\n",
       "      <td>1.389</td>\n",
       "      <td>6.462</td>\n",
       "      <td>10.906</td>\n",
       "      <td>18.293</td>\n",
       "      <td>19.385</td>\n",
       "      <td>0.225498</td>\n",
       "      <td>8.742</td>\n",
       "    </tr>\n",
       "    <tr>\n",
       "      <th>9010</th>\n",
       "      <td>2.458</td>\n",
       "      <td>208.907E-6</td>\n",
       "      <td>1.121</td>\n",
       "      <td>1.267</td>\n",
       "      <td>3.364</td>\n",
       "      <td>13.854</td>\n",
       "      <td>1.316</td>\n",
       "      <td>5.941</td>\n",
       "      <td>7.453</td>\n",
       "      <td>13.161</td>\n",
       "      <td>17.822</td>\n",
       "      <td>0.271754</td>\n",
       "      <td>8.381</td>\n",
       "    </tr>\n",
       "    <tr>\n",
       "      <th>9011</th>\n",
       "      <td>1.787</td>\n",
       "      <td>174.532E-6</td>\n",
       "      <td>0.728</td>\n",
       "      <td>0.883</td>\n",
       "      <td>2.184</td>\n",
       "      <td>14.793</td>\n",
       "      <td>1.458</td>\n",
       "      <td>5.790</td>\n",
       "      <td>7.367</td>\n",
       "      <td>14.141</td>\n",
       "      <td>17.371</td>\n",
       "      <td>0.158188</td>\n",
       "      <td>10.744</td>\n",
       "    </tr>\n",
       "    <tr>\n",
       "      <th>9012</th>\n",
       "      <td>3.015</td>\n",
       "      <td>187.350E-6</td>\n",
       "      <td>1.663</td>\n",
       "      <td>1.639</td>\n",
       "      <td>4.990</td>\n",
       "      <td>11.825</td>\n",
       "      <td>1.250</td>\n",
       "      <td>5.059</td>\n",
       "      <td>6.256</td>\n",
       "      <td>11.777</td>\n",
       "      <td>15.176</td>\n",
       "      <td>0.251157</td>\n",
       "      <td>9.508</td>\n",
       "    </tr>\n",
       "    <tr>\n",
       "      <th>9013</th>\n",
       "      <td>2.694</td>\n",
       "      <td>262.489E-6</td>\n",
       "      <td>1.169</td>\n",
       "      <td>1.567</td>\n",
       "      <td>3.508</td>\n",
       "      <td>16.794</td>\n",
       "      <td>1.541</td>\n",
       "      <td>6.268</td>\n",
       "      <td>9.944</td>\n",
       "      <td>30.529</td>\n",
       "      <td>18.804</td>\n",
       "      <td>0.360312</td>\n",
       "      <td>6.338</td>\n",
       "    </tr>\n",
       "  </tbody>\n",
       "</table>\n",
       "<p>8906 rows × 13 columns</p>\n",
       "</div>"
      ],
      "text/plain": [
       "     jitter_local jitter_local_absolute jitter_rap jitter_ppq5 jitter_ddp  \\\n",
       "0           2.854            306.031E-6      1.276       1.559      3.827   \n",
       "1           3.037            326.325E-6      1.221       1.566      3.662   \n",
       "3           5.317            303.522E-6      2.761       3.502      8.284   \n",
       "4           3.971            267.126E-6      2.002       2.202      6.005   \n",
       "5           3.650            258.991E-6      1.659       2.175      4.976   \n",
       "...           ...                   ...        ...         ...        ...   \n",
       "9009        2.024            157.318E-6      0.939       1.124      2.818   \n",
       "9010        2.458            208.907E-6      1.121       1.267      3.364   \n",
       "9011        1.787            174.532E-6      0.728       0.883      2.184   \n",
       "9012        3.015            187.350E-6      1.663       1.639      4.990   \n",
       "9013        2.694            262.489E-6      1.169       1.567      3.508   \n",
       "\n",
       "     shimmer_local shimmer_local_db shimmer_apq3 shimmer_apq5 shimmer_apq11  \\\n",
       "0           13.739            1.221        5.965       10.340        14.402   \n",
       "1           15.128            1.419        6.729        9.831        15.615   \n",
       "3           20.180            1.788        8.561       11.598        27.529   \n",
       "4           18.928            1.607        9.829       12.057        18.549   \n",
       "5           18.528            1.502        9.536       12.733        12.336   \n",
       "...            ...              ...          ...          ...           ...   \n",
       "9009        15.381            1.389        6.462       10.906        18.293   \n",
       "9010        13.854            1.316        5.941        7.453        13.161   \n",
       "9011        14.793            1.458        5.790        7.367        14.141   \n",
       "9012        11.825            1.250        5.059        6.256        11.777   \n",
       "9013        16.794            1.541        6.268        9.944        30.529   \n",
       "\n",
       "     shimmer_dda       NTH     HTN  \n",
       "0         17.894  0.362033   7.098  \n",
       "1         20.187  0.302392   7.303  \n",
       "3         25.682  0.466305   4.583  \n",
       "4         29.488  0.440605   5.834  \n",
       "5         28.609  0.397612   6.054  \n",
       "...          ...       ...     ...  \n",
       "9009      19.385  0.225498   8.742  \n",
       "9010      17.822  0.271754   8.381  \n",
       "9011      17.371  0.158188  10.744  \n",
       "9012      15.176  0.251157   9.508  \n",
       "9013      18.804  0.360312   6.338  \n",
       "\n",
       "[8906 rows x 13 columns]"
      ]
     },
     "execution_count": 56,
     "metadata": {},
     "output_type": "execute_result"
    }
   ],
   "source": []
  },
  {
   "cell_type": "code",
   "execution_count": null,
   "metadata": {},
   "outputs": [],
   "source": []
  }
 ],
 "metadata": {
  "kernelspec": {
   "display_name": "Python 3",
   "language": "python",
   "name": "python3"
  },
  "language_info": {
   "codemirror_mode": {
    "name": "ipython",
    "version": 3
   },
   "file_extension": ".py",
   "mimetype": "text/x-python",
   "name": "python",
   "nbconvert_exporter": "python",
   "pygments_lexer": "ipython3",
   "version": "3.7.3"
  }
 },
 "nbformat": 4,
 "nbformat_minor": 2
}
